{
 "cells": [
  {
   "cell_type": "code",
   "execution_count": 3,
   "metadata": {
    "collapsed": true
   },
   "outputs": [],
   "source": [
    "import matplotlib.pyplot as plt\n",
    "%matplotlib inline  "
   ]
  },
  {
   "cell_type": "code",
   "execution_count": 4,
   "metadata": {
    "collapsed": true
   },
   "outputs": [],
   "source": [
    "def pseudo_weight(t,T1=100,T2=600,alpha_f=3):\n",
    "\n",
    "    '''\n",
    "    EQN 16 from: http://deeplearning.net/wp-content/uploads/2013/03/pseudo_label_final.pdf\n",
    "    \n",
    "    Default values for T1, T2 and alpha_f are from paper\n",
    "    '''\n",
    "\n",
    "    if t < T1:\n",
    "        return 0\n",
    "    elif t >= T2:\n",
    "        return alpha_f \n",
    "    else: #T1 <= t < T2\n",
    "        return alpha_f*(t-T1)/float(T2-T1) \n"
   ]
  },
  {
   "cell_type": "code",
   "execution_count": 6,
   "metadata": {
    "collapsed": false
   },
   "outputs": [
    {
     "data": {
      "image/png": "[encoded data removed]",
      "text/plain": [
       "<matplotlib.figure.Figure at 0x105d4f690>"
      ]
     },
     "metadata": {},
     "output_type": "display_data"
    }
   ],
   "source": [
    "T1=50\n",
    "T2=100\n",
    "alpha_f=2\n",
    "num_epochs = 500\n",
    "\n",
    "weights=[]\n",
    "for i in range(num_epochs):\n",
    "    weights.append(pseudo_weight(i,T1=50,T2=100,alpha_f=2))\n",
    "    \n",
    "orig_weights=[]\n",
    "for i in range(num_epochs):\n",
    "    orig_weights.append(pseudo_weight(i,T1=100,T2=600,alpha_f=3))\n",
    "    \n",
    "plt.plot(range(num_epochs),weights,label='ours')\n",
    "plt.plot(range(num_epochs),orig_weights,label='theirs')\n",
    "plt\n",
    "plt.show()"
   ]
  },
  {
   "cell_type": "code",
   "execution_count": null,
   "metadata": {
    "collapsed": true
   },
   "outputs": [],
   "source": []
  }
 ],
 "metadata": {
  "kernelspec": {
   "display_name": "Python 2",
   "language": "python",
   "name": "python2"
  },
  "language_info": {
   "codemirror_mode": {
    "name": "ipython",
    "version": 2
   },
   "file_extension": ".py",
   "mimetype": "text/x-python",
   "name": "python",
   "nbconvert_exporter": "python",
   "pygments_lexer": "ipython2",
   "version": "2.7.13"
  }
 },
 "nbformat": 4,
 "nbformat_minor": 0
}
